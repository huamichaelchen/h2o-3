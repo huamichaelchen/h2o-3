{
 "cells": [
  {
   "cell_type": "markdown",
   "metadata": {},
   "source": [
    "# H2O Tutorial: Breast Cancer Classification\n"
   ]
  },
  {
   "cell_type": "markdown",
   "metadata": {},
   "source": [
    "Author: Erin LeDell\n",
    "\n",
    "Contact: erin@h2o.ai\n",
    "\n",
    "This tutorial steps through a quick introduction to H2O's Python API. The goal of this tutorial is to introduce through a complete example H2O's capabilities from Python. Also, to help those that are accustomed to Scikit Learn and Pandas, the demo will be specific call outs for differences between H2O and those packages; this is intended to help anyone that needs to do machine learning on really Big Data make the transition. It is not meant to be a tutorial on machine learning or algorithms.\n",
    "\n",
    "Detailed documentation about H2O's and the Python API is available at http://docs.h2o.ai."
   ]
  },
  {
   "cell_type": "markdown",
   "metadata": {},
   "source": [
    "## Install H2O in Python\n",
    "\n",
    "### Prerequisites\n",
    "\n",
    "This tutorial assumes you have Python 2.7 installed.  The `h2o` Python package has a few dependencies which can be installed using [pip](http://pip.readthedocs.org/en/stable/installing/). The packages that are required are (which also have their own dependencies):\n",
    "```bash\n",
    "pip install requests\n",
    "pip install tabulate\n",
    "pip install scikit-learn \n",
    "```\n",
    "If you have any problems (for example, installing the `scikit-learn` package), check out [this page](https://github.com/h2oai/h2o-3/blob/master/h2o-docs/src/product/howto/FAQ.md#python) for tips.\n",
    "\n",
    "### Install h2o\n",
    "\n",
    "Once the dependencies are installed, you can install H2O.  We will use the latest stable version of the `h2o` package, which is called \"Tibshirani-3.\"  The installation instructions are on the \"Install in Python\" tab on [this page](http://h2o-release.s3.amazonaws.com/h2o/rel-tibshirani/3/index.html).\n",
    "\n",
    "```bash\n",
    "# The following command removes the H2O module for Python (if it already exists).\n",
    "pip uninstall h2o\n",
    "\n",
    "# Next, use pip to install this version of the H2O Python module.\n",
    "pip install http://h2o-release.s3.amazonaws.com/h2o/rel-tibshirani/3/Python/h2o-3.6.0.3-py2.py3-none-any.whl\n",
    "```"
   ]
  },
  {
   "cell_type": "markdown",
   "metadata": {},
   "source": [
    "## Start up an H2O cluster\n",
    "\n",
    "In a Python terminal, we can import the `h2o` package and start up an H2O cluster."
   ]
  },
  {
   "cell_type": "code",
   "execution_count": 16,
   "metadata": {
    "collapsed": false
   },
   "outputs": [
    {
     "name": "stdout",
     "output_type": "stream",
     "text": [
      "\n",
      "\n",
      "No instance found at ip and port: localhost:54321. Trying to start local jar...\n",
      "\n",
      "\n",
      "JVM stdout: /var/folders/2j/jg4sl53d5q53tc2_nzm9fz5h0000gn/T/tmplpw2f2/h2o_me_started_from_python.out\n",
      "JVM stderr: /var/folders/2j/jg4sl53d5q53tc2_nzm9fz5h0000gn/T/tmp_K26pa/h2o_me_started_from_python.err\n",
      "Using ice_root: /var/folders/2j/jg4sl53d5q53tc2_nzm9fz5h0000gn/T/tmpj3OrZq\n",
      "\n",
      "\n",
      "Java Version: java version \"1.8.0_45\"\n",
      "Java(TM) SE Runtime Environment (build 1.8.0_45-b14)\n",
      "Java HotSpot(TM) 64-Bit Server VM (build 25.45-b02, mixed mode)\n",
      "\n",
      "\n",
      "Starting H2O JVM and connecting: ......... Connection successful!\n"
     ]
    },
    {
     "data": {
      "text/html": [
       "<div style=\"overflow:auto\"><table style=\"width:50%\"><tr><td>H2O cluster uptime: </td>\n",
       "<td>1 seconds 20 milliseconds </td></tr>\n",
       "<tr><td>H2O cluster version: </td>\n",
       "<td>3.6.0.3</td></tr>\n",
       "<tr><td>H2O cluster name: </td>\n",
       "<td>H2O_started_from_python</td></tr>\n",
       "<tr><td>H2O cluster total nodes: </td>\n",
       "<td>1</td></tr>\n",
       "<tr><td>H2O cluster total memory: </td>\n",
       "<td>3.56 GB</td></tr>\n",
       "<tr><td>H2O cluster total cores: </td>\n",
       "<td>8</td></tr>\n",
       "<tr><td>H2O cluster allowed cores: </td>\n",
       "<td>8</td></tr>\n",
       "<tr><td>H2O cluster healthy: </td>\n",
       "<td>True</td></tr>\n",
       "<tr><td>H2O Connection ip: </td>\n",
       "<td>127.0.0.1</td></tr>\n",
       "<tr><td>H2O Connection port: </td>\n",
       "<td>54321</td></tr></table></div>"
      ],
      "text/plain": [
       "--------------------------  -------------------------\n",
       "H2O cluster uptime:         1 seconds 20 milliseconds\n",
       "H2O cluster version:        3.6.0.3\n",
       "H2O cluster name:           H2O_started_from_python\n",
       "H2O cluster total nodes:    1\n",
       "H2O cluster total memory:   3.56 GB\n",
       "H2O cluster total cores:    8\n",
       "H2O cluster allowed cores:  8\n",
       "H2O cluster healthy:        True\n",
       "H2O Connection ip:          127.0.0.1\n",
       "H2O Connection port:        54321\n",
       "--------------------------  -------------------------"
      ]
     },
     "metadata": {},
     "output_type": "display_data"
    }
   ],
   "source": [
    "import h2o\n",
    "\n",
    "# Start an H2O Cluster on your local machine\n",
    "h2o.init()"
   ]
  },
  {
   "cell_type": "markdown",
   "metadata": {},
   "source": [
    "If you already have an H2O cluster running that you'd like to connect to (for example, in a multi-node Hadoop environment), then you can specify the IP and port of that cluster as follows:"
   ]
  },
  {
   "cell_type": "code",
   "execution_count": null,
   "metadata": {
    "collapsed": false
   },
   "outputs": [],
   "source": [
    "# This will not actually do anything since it's a fake IP address\n",
    "# h2o.init(ip=\"123.45.67.89\", port=54321)"
   ]
  },
  {
   "cell_type": "markdown",
   "metadata": {},
   "source": [
    "## Download Data"
   ]
  },
  {
   "cell_type": "markdown",
   "metadata": {},
   "source": [
    "The following code downloads a copy of the [Wisconsin Diagnostic Breast Cancer dataset](https://archive.ics.uci.edu/ml/datasets/Breast+Cancer+Wisconsin+%28Diagnostic%29).\n",
    "\n",
    "We can import the data directly into H2O using the Python API."
   ]
  },
  {
   "cell_type": "code",
   "execution_count": 17,
   "metadata": {
    "collapsed": false
   },
   "outputs": [
    {
     "name": "stdout",
     "output_type": "stream",
     "text": [
      "\n",
      "Parse Progress: [##################################################] 100%\n"
     ]
    }
   ],
   "source": [
    "csv_url = \"http://www.stat.berkeley.edu/~ledell/data/wisc-diag-breast-cancer-shuffled.csv\"\n",
    "data = h2o.import_file(csv_url)"
   ]
  },
  {
   "cell_type": "markdown",
   "metadata": {},
   "source": [
    "## Explore Data\n",
    "Once we have loaded the data, let's take a quick look.  First the dimension of the frame:"
   ]
  },
  {
   "cell_type": "code",
   "execution_count": 18,
   "metadata": {
    "collapsed": false
   },
   "outputs": [
    {
     "data": {
      "text/plain": [
       "(569, 32)"
      ]
     },
     "execution_count": 18,
     "metadata": {},
     "output_type": "execute_result"
    }
   ],
   "source": [
    "data.shape\n"
   ]
  },
  {
   "cell_type": "markdown",
   "metadata": {},
   "source": [
    "Now let's take a look at the top of the frame:"
   ]
  },
  {
   "cell_type": "code",
   "execution_count": 14,
   "metadata": {
    "collapsed": false
   },
   "outputs": [
    {
     "data": {
      "text/html": [
       "<table>\n",
       "<tr><th style=\"text-align: right;\">              id</th><th>diagnosis  </th><th style=\"text-align: right;\">  radius_mean</th><th style=\"text-align: right;\">  texture_mean</th><th style=\"text-align: right;\">  perimeter_mean</th><th style=\"text-align: right;\">  area_mean</th><th style=\"text-align: right;\">  smoothness_mean</th><th style=\"text-align: right;\">  compactness_mean</th><th style=\"text-align: right;\">  concavity_mean</th><th style=\"text-align: right;\">  concave_points_mean</th><th style=\"text-align: right;\">  symmetry_mean</th><th style=\"text-align: right;\">  fractal_dimension_mean</th><th style=\"text-align: right;\">  radius_se</th><th style=\"text-align: right;\">  texture_se</th><th style=\"text-align: right;\">  perimeter_se</th><th style=\"text-align: right;\">  area_se</th><th style=\"text-align: right;\">  smoothness_se</th><th style=\"text-align: right;\">  compactness_se</th><th style=\"text-align: right;\">  concavity_se</th><th style=\"text-align: right;\">  concave_points_se</th><th style=\"text-align: right;\">  symmetry_se</th><th style=\"text-align: right;\">  fractal_dimension_se</th><th style=\"text-align: right;\">  radius_worst</th><th style=\"text-align: right;\">  texture_worst</th><th style=\"text-align: right;\">  perimeter_worst</th><th style=\"text-align: right;\">  area_worst</th><th style=\"text-align: right;\">  smoothness_worst</th><th style=\"text-align: right;\">  compactness_worst</th><th style=\"text-align: right;\">  concavity_worst</th><th style=\"text-align: right;\">  concave_points_worst</th><th style=\"text-align: right;\">  symmetry_worst</th><th style=\"text-align: right;\">  fractal_dimension_worst</th></tr>\n",
       "<tr><td style=\"text-align: right;\">     8.71002e+08</td><td>B          </td><td style=\"text-align: right;\">        8.219</td><td style=\"text-align: right;\">         20.7 </td><td style=\"text-align: right;\">           53.27</td><td style=\"text-align: right;\">      203.9</td><td style=\"text-align: right;\">          0.09405</td><td style=\"text-align: right;\">           0.1305 </td><td style=\"text-align: right;\">         0.1321 </td><td style=\"text-align: right;\">              0.02168</td><td style=\"text-align: right;\">         0.2222</td><td style=\"text-align: right;\">                 0.08261</td><td style=\"text-align: right;\">     0.1935</td><td style=\"text-align: right;\">      1.962 </td><td style=\"text-align: right;\">        1.243 </td><td style=\"text-align: right;\">    10.21</td><td style=\"text-align: right;\">       0.01243 </td><td style=\"text-align: right;\">         0.05416</td><td style=\"text-align: right;\">       0.07753</td><td style=\"text-align: right;\">           0.01022 </td><td style=\"text-align: right;\">      0.02309</td><td style=\"text-align: right;\">              0.01178 </td><td style=\"text-align: right;\">         9.092</td><td style=\"text-align: right;\">          29.72</td><td style=\"text-align: right;\">            58.08</td><td style=\"text-align: right;\">       249.8</td><td style=\"text-align: right;\">            0.163 </td><td style=\"text-align: right;\">             0.431 </td><td style=\"text-align: right;\">           0.5381</td><td style=\"text-align: right;\">               0.07879</td><td style=\"text-align: right;\">          0.3322</td><td style=\"text-align: right;\">                  0.1486 </td></tr>\n",
       "<tr><td style=\"text-align: right;\">     8.81053e+06</td><td>B          </td><td style=\"text-align: right;\">       11.84 </td><td style=\"text-align: right;\">         18.94</td><td style=\"text-align: right;\">           75.51</td><td style=\"text-align: right;\">      428  </td><td style=\"text-align: right;\">          0.08871</td><td style=\"text-align: right;\">           0.069  </td><td style=\"text-align: right;\">         0.02669</td><td style=\"text-align: right;\">              0.01393</td><td style=\"text-align: right;\">         0.1533</td><td style=\"text-align: right;\">                 0.06057</td><td style=\"text-align: right;\">     0.2222</td><td style=\"text-align: right;\">      0.8652</td><td style=\"text-align: right;\">        1.444 </td><td style=\"text-align: right;\">    17.12</td><td style=\"text-align: right;\">       0.005517</td><td style=\"text-align: right;\">         0.01727</td><td style=\"text-align: right;\">       0.02045</td><td style=\"text-align: right;\">           0.006747</td><td style=\"text-align: right;\">      0.01616</td><td style=\"text-align: right;\">              0.002922</td><td style=\"text-align: right;\">        13.3  </td><td style=\"text-align: right;\">          24.99</td><td style=\"text-align: right;\">            85.22</td><td style=\"text-align: right;\">       546.3</td><td style=\"text-align: right;\">            0.128 </td><td style=\"text-align: right;\">             0.188 </td><td style=\"text-align: right;\">           0.1471</td><td style=\"text-align: right;\">               0.06913</td><td style=\"text-align: right;\">          0.2535</td><td style=\"text-align: right;\">                  0.07993</td></tr>\n",
       "<tr><td style=\"text-align: right;\">     8.95115e+07</td><td>B          </td><td style=\"text-align: right;\">       12.2  </td><td style=\"text-align: right;\">         15.21</td><td style=\"text-align: right;\">           78.01</td><td style=\"text-align: right;\">      457.9</td><td style=\"text-align: right;\">          0.08673</td><td style=\"text-align: right;\">           0.06545</td><td style=\"text-align: right;\">         0.01994</td><td style=\"text-align: right;\">              0.01692</td><td style=\"text-align: right;\">         0.1638</td><td style=\"text-align: right;\">                 0.06129</td><td style=\"text-align: right;\">     0.2575</td><td style=\"text-align: right;\">      0.8073</td><td style=\"text-align: right;\">        1.959 </td><td style=\"text-align: right;\">    19.01</td><td style=\"text-align: right;\">       0.005403</td><td style=\"text-align: right;\">         0.01418</td><td style=\"text-align: right;\">       0.01051</td><td style=\"text-align: right;\">           0.005142</td><td style=\"text-align: right;\">      0.01333</td><td style=\"text-align: right;\">              0.002065</td><td style=\"text-align: right;\">        13.75 </td><td style=\"text-align: right;\">          21.38</td><td style=\"text-align: right;\">            91.11</td><td style=\"text-align: right;\">       583.1</td><td style=\"text-align: right;\">            0.1256</td><td style=\"text-align: right;\">             0.1928</td><td style=\"text-align: right;\">           0.1167</td><td style=\"text-align: right;\">               0.05556</td><td style=\"text-align: right;\">          0.2661</td><td style=\"text-align: right;\">                  0.07961</td></tr>\n",
       "<tr><td style=\"text-align: right;\">     9.15946e+07</td><td>M          </td><td style=\"text-align: right;\">       15.05 </td><td style=\"text-align: right;\">         19.07</td><td style=\"text-align: right;\">           97.26</td><td style=\"text-align: right;\">      701.9</td><td style=\"text-align: right;\">          0.09215</td><td style=\"text-align: right;\">           0.08597</td><td style=\"text-align: right;\">         0.07486</td><td style=\"text-align: right;\">              0.04335</td><td style=\"text-align: right;\">         0.1561</td><td style=\"text-align: right;\">                 0.05915</td><td style=\"text-align: right;\">     0.386 </td><td style=\"text-align: right;\">      1.198 </td><td style=\"text-align: right;\">        2.63  </td><td style=\"text-align: right;\">    38.49</td><td style=\"text-align: right;\">       0.004952</td><td style=\"text-align: right;\">         0.0163 </td><td style=\"text-align: right;\">       0.02967</td><td style=\"text-align: right;\">           0.009423</td><td style=\"text-align: right;\">      0.01152</td><td style=\"text-align: right;\">              0.001718</td><td style=\"text-align: right;\">        17.58 </td><td style=\"text-align: right;\">          28.06</td><td style=\"text-align: right;\">           113.8 </td><td style=\"text-align: right;\">       967  </td><td style=\"text-align: right;\">            0.1246</td><td style=\"text-align: right;\">             0.2101</td><td style=\"text-align: right;\">           0.2866</td><td style=\"text-align: right;\">               0.112  </td><td style=\"text-align: right;\">          0.2282</td><td style=\"text-align: right;\">                  0.06954</td></tr>\n",
       "<tr><td style=\"text-align: right;\">864292          </td><td>B          </td><td style=\"text-align: right;\">       10.51 </td><td style=\"text-align: right;\">         20.19</td><td style=\"text-align: right;\">           68.64</td><td style=\"text-align: right;\">      334.2</td><td style=\"text-align: right;\">          0.1122 </td><td style=\"text-align: right;\">           0.1303 </td><td style=\"text-align: right;\">         0.06476</td><td style=\"text-align: right;\">              0.03068</td><td style=\"text-align: right;\">         0.1922</td><td style=\"text-align: right;\">                 0.07782</td><td style=\"text-align: right;\">     0.3336</td><td style=\"text-align: right;\">      1.86  </td><td style=\"text-align: right;\">        2.041 </td><td style=\"text-align: right;\">    19.91</td><td style=\"text-align: right;\">       0.01188 </td><td style=\"text-align: right;\">         0.03747</td><td style=\"text-align: right;\">       0.04591</td><td style=\"text-align: right;\">           0.01544 </td><td style=\"text-align: right;\">      0.02287</td><td style=\"text-align: right;\">              0.006792</td><td style=\"text-align: right;\">        11.16 </td><td style=\"text-align: right;\">          22.75</td><td style=\"text-align: right;\">            72.62</td><td style=\"text-align: right;\">       374.4</td><td style=\"text-align: right;\">            0.13  </td><td style=\"text-align: right;\">             0.2049</td><td style=\"text-align: right;\">           0.1295</td><td style=\"text-align: right;\">               0.06136</td><td style=\"text-align: right;\">          0.2383</td><td style=\"text-align: right;\">                  0.09026</td></tr>\n",
       "<tr><td style=\"text-align: right;\">     9.1544e+07 </td><td>B          </td><td style=\"text-align: right;\">       12.22 </td><td style=\"text-align: right;\">         20.04</td><td style=\"text-align: right;\">           79.47</td><td style=\"text-align: right;\">      453.1</td><td style=\"text-align: right;\">          0.1096 </td><td style=\"text-align: right;\">           0.1152 </td><td style=\"text-align: right;\">         0.08175</td><td style=\"text-align: right;\">              0.02166</td><td style=\"text-align: right;\">         0.2124</td><td style=\"text-align: right;\">                 0.06894</td><td style=\"text-align: right;\">     0.1811</td><td style=\"text-align: right;\">      0.7959</td><td style=\"text-align: right;\">        0.9857</td><td style=\"text-align: right;\">    12.58</td><td style=\"text-align: right;\">       0.006272</td><td style=\"text-align: right;\">         0.02198</td><td style=\"text-align: right;\">       0.03966</td><td style=\"text-align: right;\">           0.009894</td><td style=\"text-align: right;\">      0.0132 </td><td style=\"text-align: right;\">              0.003813</td><td style=\"text-align: right;\">        13.16 </td><td style=\"text-align: right;\">          24.17</td><td style=\"text-align: right;\">            85.13</td><td style=\"text-align: right;\">       515.3</td><td style=\"text-align: right;\">            0.1402</td><td style=\"text-align: right;\">             0.2315</td><td style=\"text-align: right;\">           0.3535</td><td style=\"text-align: right;\">               0.08088</td><td style=\"text-align: right;\">          0.2709</td><td style=\"text-align: right;\">                  0.08839</td></tr>\n",
       "<tr><td style=\"text-align: right;\">     9.19039e+07</td><td>B          </td><td style=\"text-align: right;\">       11.67 </td><td style=\"text-align: right;\">         20.02</td><td style=\"text-align: right;\">           75.21</td><td style=\"text-align: right;\">      416.2</td><td style=\"text-align: right;\">          0.1016 </td><td style=\"text-align: right;\">           0.09453</td><td style=\"text-align: right;\">         0.042  </td><td style=\"text-align: right;\">              0.02157</td><td style=\"text-align: right;\">         0.1859</td><td style=\"text-align: right;\">                 0.06461</td><td style=\"text-align: right;\">     0.2067</td><td style=\"text-align: right;\">      0.8745</td><td style=\"text-align: right;\">        1.393 </td><td style=\"text-align: right;\">    15.34</td><td style=\"text-align: right;\">       0.005251</td><td style=\"text-align: right;\">         0.01727</td><td style=\"text-align: right;\">       0.0184 </td><td style=\"text-align: right;\">           0.005298</td><td style=\"text-align: right;\">      0.01449</td><td style=\"text-align: right;\">              0.002671</td><td style=\"text-align: right;\">        13.35 </td><td style=\"text-align: right;\">          28.81</td><td style=\"text-align: right;\">            87   </td><td style=\"text-align: right;\">       550.6</td><td style=\"text-align: right;\">            0.155 </td><td style=\"text-align: right;\">             0.2964</td><td style=\"text-align: right;\">           0.2758</td><td style=\"text-align: right;\">               0.0812 </td><td style=\"text-align: right;\">          0.3206</td><td style=\"text-align: right;\">                  0.0895 </td></tr>\n",
       "<tr><td style=\"text-align: right;\">     9.01257e+06</td><td>B          </td><td style=\"text-align: right;\">       15.19 </td><td style=\"text-align: right;\">         13.21</td><td style=\"text-align: right;\">           97.65</td><td style=\"text-align: right;\">      711.8</td><td style=\"text-align: right;\">          0.07963</td><td style=\"text-align: right;\">           0.06934</td><td style=\"text-align: right;\">         0.03393</td><td style=\"text-align: right;\">              0.02657</td><td style=\"text-align: right;\">         0.1721</td><td style=\"text-align: right;\">                 0.05544</td><td style=\"text-align: right;\">     0.1783</td><td style=\"text-align: right;\">      0.4125</td><td style=\"text-align: right;\">        1.338 </td><td style=\"text-align: right;\">    17.72</td><td style=\"text-align: right;\">       0.005012</td><td style=\"text-align: right;\">         0.01485</td><td style=\"text-align: right;\">       0.01551</td><td style=\"text-align: right;\">           0.009155</td><td style=\"text-align: right;\">      0.01647</td><td style=\"text-align: right;\">              0.001767</td><td style=\"text-align: right;\">        16.2  </td><td style=\"text-align: right;\">          15.73</td><td style=\"text-align: right;\">           104.5 </td><td style=\"text-align: right;\">       819.1</td><td style=\"text-align: right;\">            0.1126</td><td style=\"text-align: right;\">             0.1737</td><td style=\"text-align: right;\">           0.1362</td><td style=\"text-align: right;\">               0.08178</td><td style=\"text-align: right;\">          0.2487</td><td style=\"text-align: right;\">                  0.06766</td></tr>\n",
       "<tr><td style=\"text-align: right;\">899987          </td><td>M          </td><td style=\"text-align: right;\">       25.73 </td><td style=\"text-align: right;\">         17.46</td><td style=\"text-align: right;\">          174.2 </td><td style=\"text-align: right;\">     2010  </td><td style=\"text-align: right;\">          0.1149 </td><td style=\"text-align: right;\">           0.2363 </td><td style=\"text-align: right;\">         0.3368 </td><td style=\"text-align: right;\">              0.1913 </td><td style=\"text-align: right;\">         0.1956</td><td style=\"text-align: right;\">                 0.06121</td><td style=\"text-align: right;\">     0.9948</td><td style=\"text-align: right;\">      0.8509</td><td style=\"text-align: right;\">        7.222 </td><td style=\"text-align: right;\">   153.1 </td><td style=\"text-align: right;\">       0.006369</td><td style=\"text-align: right;\">         0.04243</td><td style=\"text-align: right;\">       0.04266</td><td style=\"text-align: right;\">           0.01508 </td><td style=\"text-align: right;\">      0.02335</td><td style=\"text-align: right;\">              0.003385</td><td style=\"text-align: right;\">        33.13 </td><td style=\"text-align: right;\">          23.58</td><td style=\"text-align: right;\">           229.3 </td><td style=\"text-align: right;\">      3234  </td><td style=\"text-align: right;\">            0.153 </td><td style=\"text-align: right;\">             0.5937</td><td style=\"text-align: right;\">           0.6451</td><td style=\"text-align: right;\">               0.2756 </td><td style=\"text-align: right;\">          0.369 </td><td style=\"text-align: right;\">                  0.08815</td></tr>\n",
       "<tr><td style=\"text-align: right;\">854039          </td><td>M          </td><td style=\"text-align: right;\">       16.13 </td><td style=\"text-align: right;\">         17.88</td><td style=\"text-align: right;\">          107   </td><td style=\"text-align: right;\">      807.2</td><td style=\"text-align: right;\">          0.104  </td><td style=\"text-align: right;\">           0.1559 </td><td style=\"text-align: right;\">         0.1354 </td><td style=\"text-align: right;\">              0.07752</td><td style=\"text-align: right;\">         0.1998</td><td style=\"text-align: right;\">                 0.06515</td><td style=\"text-align: right;\">     0.334 </td><td style=\"text-align: right;\">      0.6857</td><td style=\"text-align: right;\">        2.183 </td><td style=\"text-align: right;\">    35.03</td><td style=\"text-align: right;\">       0.004185</td><td style=\"text-align: right;\">         0.02868</td><td style=\"text-align: right;\">       0.02664</td><td style=\"text-align: right;\">           0.009067</td><td style=\"text-align: right;\">      0.01703</td><td style=\"text-align: right;\">              0.003817</td><td style=\"text-align: right;\">        20.21 </td><td style=\"text-align: right;\">          27.26</td><td style=\"text-align: right;\">           132.7 </td><td style=\"text-align: right;\">      1261  </td><td style=\"text-align: right;\">            0.1446</td><td style=\"text-align: right;\">             0.5804</td><td style=\"text-align: right;\">           0.5274</td><td style=\"text-align: right;\">               0.1864 </td><td style=\"text-align: right;\">          0.427 </td><td style=\"text-align: right;\">                  0.1233 </td></tr>\n",
       "</table>"
      ]
     },
     "metadata": {},
     "output_type": "display_data"
    },
    {
     "data": {
      "text/plain": []
     },
     "execution_count": 14,
     "metadata": {},
     "output_type": "execute_result"
    }
   ],
   "source": [
    "data.head()"
   ]
  },
  {
   "cell_type": "markdown",
   "metadata": {},
   "source": [
    "The first two columns contain an ID and the resposne.  The \"diagnosis\" column is the response.  Let's take a look at the column names.  The data contains derived features from the medical images of the tumors."
   ]
  },
  {
   "cell_type": "code",
   "execution_count": 59,
   "metadata": {
    "collapsed": false
   },
   "outputs": [
    {
     "data": {
      "text/plain": [
       "[u'id',\n",
       " u'diagnosis',\n",
       " u'radius_mean',\n",
       " u'texture_mean',\n",
       " u'perimeter_mean',\n",
       " u'area_mean',\n",
       " u'smoothness_mean',\n",
       " u'compactness_mean',\n",
       " u'concavity_mean',\n",
       " u'concave_points_mean',\n",
       " u'symmetry_mean',\n",
       " u'fractal_dimension_mean',\n",
       " u'radius_se',\n",
       " u'texture_se',\n",
       " u'perimeter_se',\n",
       " u'area_se',\n",
       " u'smoothness_se',\n",
       " u'compactness_se',\n",
       " u'concavity_se',\n",
       " u'concave_points_se',\n",
       " u'symmetry_se',\n",
       " u'fractal_dimension_se',\n",
       " u'radius_worst',\n",
       " u'texture_worst',\n",
       " u'perimeter_worst',\n",
       " u'area_worst',\n",
       " u'smoothness_worst',\n",
       " u'compactness_worst',\n",
       " u'concavity_worst',\n",
       " u'concave_points_worst',\n",
       " u'symmetry_worst',\n",
       " u'fractal_dimension_worst']"
      ]
     },
     "execution_count": 59,
     "metadata": {},
     "output_type": "execute_result"
    }
   ],
   "source": [
    "data.columns"
   ]
  },
  {
   "cell_type": "markdown",
   "metadata": {},
   "source": [
    "To select a subset of the columns to look at, typical Pandas indexing applies:"
   ]
  },
  {
   "cell_type": "code",
   "execution_count": 53,
   "metadata": {
    "collapsed": false
   },
   "outputs": [
    {
     "data": {
      "text/html": [
       "<table>\n",
       "<tr><th style=\"text-align: right;\">              id</th><th>diagnosis  </th><th style=\"text-align: right;\">  area_mean</th></tr>\n",
       "<tr><td style=\"text-align: right;\">     8.71002e+08</td><td>B          </td><td style=\"text-align: right;\">      203.9</td></tr>\n",
       "<tr><td style=\"text-align: right;\">     8.81053e+06</td><td>B          </td><td style=\"text-align: right;\">      428  </td></tr>\n",
       "<tr><td style=\"text-align: right;\">     8.95115e+07</td><td>B          </td><td style=\"text-align: right;\">      457.9</td></tr>\n",
       "<tr><td style=\"text-align: right;\">     9.15946e+07</td><td>M          </td><td style=\"text-align: right;\">      701.9</td></tr>\n",
       "<tr><td style=\"text-align: right;\">864292          </td><td>B          </td><td style=\"text-align: right;\">      334.2</td></tr>\n",
       "<tr><td style=\"text-align: right;\">     9.1544e+07 </td><td>B          </td><td style=\"text-align: right;\">      453.1</td></tr>\n",
       "<tr><td style=\"text-align: right;\">     9.19039e+07</td><td>B          </td><td style=\"text-align: right;\">      416.2</td></tr>\n",
       "<tr><td style=\"text-align: right;\">     9.01257e+06</td><td>B          </td><td style=\"text-align: right;\">      711.8</td></tr>\n",
       "<tr><td style=\"text-align: right;\">899987          </td><td>M          </td><td style=\"text-align: right;\">     2010  </td></tr>\n",
       "<tr><td style=\"text-align: right;\">854039          </td><td>M          </td><td style=\"text-align: right;\">      807.2</td></tr>\n",
       "</table>"
      ]
     },
     "metadata": {},
     "output_type": "display_data"
    },
    {
     "data": {
      "text/plain": []
     },
     "execution_count": 53,
     "metadata": {},
     "output_type": "execute_result"
    }
   ],
   "source": [
    "columns = [\"id\", \"diagnosis\", \"area_mean\"]\n",
    "data[columns].head()"
   ]
  },
  {
   "cell_type": "markdown",
   "metadata": {},
   "source": [
    "Now let's select a single column, for example -- the response column, and look at the data more closely:"
   ]
  },
  {
   "cell_type": "code",
   "execution_count": 21,
   "metadata": {
    "collapsed": false
   },
   "outputs": [
    {
     "data": {
      "text/html": [
       "<table>\n",
       "<tr><th>diagnosis  </th></tr>\n",
       "<tr><td>B          </td></tr>\n",
       "<tr><td>B          </td></tr>\n",
       "<tr><td>B          </td></tr>\n",
       "<tr><td>M          </td></tr>\n",
       "<tr><td>B          </td></tr>\n",
       "<tr><td>B          </td></tr>\n",
       "<tr><td>B          </td></tr>\n",
       "<tr><td>B          </td></tr>\n",
       "<tr><td>M          </td></tr>\n",
       "<tr><td>M          </td></tr>\n",
       "</table>"
      ]
     },
     "metadata": {},
     "output_type": "display_data"
    },
    {
     "data": {
      "text/plain": []
     },
     "execution_count": 21,
     "metadata": {},
     "output_type": "execute_result"
    }
   ],
   "source": [
    "data['diagnosis']"
   ]
  },
  {
   "cell_type": "markdown",
   "metadata": {},
   "source": [
    "It looks like a binary response, but let's validate that assumption:"
   ]
  },
  {
   "cell_type": "code",
   "execution_count": 26,
   "metadata": {
    "collapsed": false
   },
   "outputs": [
    {
     "data": {
      "text/html": [
       "<table>\n",
       "<tr><th>C1  </th></tr>\n",
       "<tr><td>B   </td></tr>\n",
       "<tr><td>M   </td></tr>\n",
       "</table>"
      ]
     },
     "metadata": {},
     "output_type": "display_data"
    },
    {
     "data": {
      "text/plain": []
     },
     "execution_count": 26,
     "metadata": {},
     "output_type": "execute_result"
    }
   ],
   "source": [
    "data['diagnosis'].unique()"
   ]
  },
  {
   "cell_type": "code",
   "execution_count": 52,
   "metadata": {
    "collapsed": false
   },
   "outputs": [
    {
     "data": {
      "text/plain": [
       "[2]"
      ]
     },
     "execution_count": 52,
     "metadata": {},
     "output_type": "execute_result"
    }
   ],
   "source": [
    "data['diagnosis'].nlevels()"
   ]
  },
  {
   "cell_type": "markdown",
   "metadata": {},
   "source": [
    "We can query the categorical \"levels\" as well ('B' and 'M' stand for \"Benign\" and \"Malignant\" diagnosis):"
   ]
  },
  {
   "cell_type": "code",
   "execution_count": 29,
   "metadata": {
    "collapsed": false
   },
   "outputs": [
    {
     "data": {
      "text/plain": [
       "[['B', 'M']]"
      ]
     },
     "execution_count": 29,
     "metadata": {},
     "output_type": "execute_result"
    }
   ],
   "source": [
    "data['diagnosis'].levels()"
   ]
  },
  {
   "cell_type": "markdown",
   "metadata": {},
   "source": [
    "Since \"diagnosis\" column is the response we would like to predict, we may want to check if there are any missing values, so let's look for NAs.  To figure out which, if any, values are missing, we can use the `isna` method on the diagnosis column.  The columns in an H2O Frame are also H2O Frames themselves, so all the methods that apply to a Frame also apply to a single column."
   ]
  },
  {
   "cell_type": "code",
   "execution_count": 37,
   "metadata": {
    "collapsed": false
   },
   "outputs": [
    {
     "data": {
      "text/html": [
       "<table>\n",
       "<tr><th style=\"text-align: right;\">  C1</th><th style=\"text-align: right;\">  C2</th><th style=\"text-align: right;\">  C3</th><th style=\"text-align: right;\">  C4</th><th style=\"text-align: right;\">  C5</th><th style=\"text-align: right;\">  C6</th><th style=\"text-align: right;\">  C7</th><th style=\"text-align: right;\">  C8</th><th style=\"text-align: right;\">  C9</th><th style=\"text-align: right;\">  C10</th><th style=\"text-align: right;\">  C11</th><th style=\"text-align: right;\">  C12</th><th style=\"text-align: right;\">  C13</th><th style=\"text-align: right;\">  C14</th><th style=\"text-align: right;\">  C15</th><th style=\"text-align: right;\">  C16</th><th style=\"text-align: right;\">  C17</th><th style=\"text-align: right;\">  C18</th><th style=\"text-align: right;\">  C19</th><th style=\"text-align: right;\">  C20</th><th style=\"text-align: right;\">  C21</th><th style=\"text-align: right;\">  C22</th><th style=\"text-align: right;\">  C23</th><th style=\"text-align: right;\">  C24</th><th style=\"text-align: right;\">  C25</th><th style=\"text-align: right;\">  C26</th><th style=\"text-align: right;\">  C27</th><th style=\"text-align: right;\">  C28</th><th style=\"text-align: right;\">  C29</th><th style=\"text-align: right;\">  C30</th><th style=\"text-align: right;\">  C31</th><th style=\"text-align: right;\">  C32</th></tr>\n",
       "<tr><td style=\"text-align: right;\">   0</td><td style=\"text-align: right;\">   0</td><td style=\"text-align: right;\">   0</td><td style=\"text-align: right;\">   0</td><td style=\"text-align: right;\">   0</td><td style=\"text-align: right;\">   0</td><td style=\"text-align: right;\">   0</td><td style=\"text-align: right;\">   0</td><td style=\"text-align: right;\">   0</td><td style=\"text-align: right;\">    0</td><td style=\"text-align: right;\">    0</td><td style=\"text-align: right;\">    0</td><td style=\"text-align: right;\">    0</td><td style=\"text-align: right;\">    0</td><td style=\"text-align: right;\">    0</td><td style=\"text-align: right;\">    0</td><td style=\"text-align: right;\">    0</td><td style=\"text-align: right;\">    0</td><td style=\"text-align: right;\">    0</td><td style=\"text-align: right;\">    0</td><td style=\"text-align: right;\">    0</td><td style=\"text-align: right;\">    0</td><td style=\"text-align: right;\">    0</td><td style=\"text-align: right;\">    0</td><td style=\"text-align: right;\">    0</td><td style=\"text-align: right;\">    0</td><td style=\"text-align: right;\">    0</td><td style=\"text-align: right;\">    0</td><td style=\"text-align: right;\">    0</td><td style=\"text-align: right;\">    0</td><td style=\"text-align: right;\">    0</td><td style=\"text-align: right;\">    0</td></tr>\n",
       "<tr><td style=\"text-align: right;\">   0</td><td style=\"text-align: right;\">   0</td><td style=\"text-align: right;\">   0</td><td style=\"text-align: right;\">   0</td><td style=\"text-align: right;\">   0</td><td style=\"text-align: right;\">   0</td><td style=\"text-align: right;\">   0</td><td style=\"text-align: right;\">   0</td><td style=\"text-align: right;\">   0</td><td style=\"text-align: right;\">    0</td><td style=\"text-align: right;\">    0</td><td style=\"text-align: right;\">    0</td><td style=\"text-align: right;\">    0</td><td style=\"text-align: right;\">    0</td><td style=\"text-align: right;\">    0</td><td style=\"text-align: right;\">    0</td><td style=\"text-align: right;\">    0</td><td style=\"text-align: right;\">    0</td><td style=\"text-align: right;\">    0</td><td style=\"text-align: right;\">    0</td><td style=\"text-align: right;\">    0</td><td style=\"text-align: right;\">    0</td><td style=\"text-align: right;\">    0</td><td style=\"text-align: right;\">    0</td><td style=\"text-align: right;\">    0</td><td style=\"text-align: right;\">    0</td><td style=\"text-align: right;\">    0</td><td style=\"text-align: right;\">    0</td><td style=\"text-align: right;\">    0</td><td style=\"text-align: right;\">    0</td><td style=\"text-align: right;\">    0</td><td style=\"text-align: right;\">    0</td></tr>\n",
       "<tr><td style=\"text-align: right;\">   0</td><td style=\"text-align: right;\">   0</td><td style=\"text-align: right;\">   0</td><td style=\"text-align: right;\">   0</td><td style=\"text-align: right;\">   0</td><td style=\"text-align: right;\">   0</td><td style=\"text-align: right;\">   0</td><td style=\"text-align: right;\">   0</td><td style=\"text-align: right;\">   0</td><td style=\"text-align: right;\">    0</td><td style=\"text-align: right;\">    0</td><td style=\"text-align: right;\">    0</td><td style=\"text-align: right;\">    0</td><td style=\"text-align: right;\">    0</td><td style=\"text-align: right;\">    0</td><td style=\"text-align: right;\">    0</td><td style=\"text-align: right;\">    0</td><td style=\"text-align: right;\">    0</td><td style=\"text-align: right;\">    0</td><td style=\"text-align: right;\">    0</td><td style=\"text-align: right;\">    0</td><td style=\"text-align: right;\">    0</td><td style=\"text-align: right;\">    0</td><td style=\"text-align: right;\">    0</td><td style=\"text-align: right;\">    0</td><td style=\"text-align: right;\">    0</td><td style=\"text-align: right;\">    0</td><td style=\"text-align: right;\">    0</td><td style=\"text-align: right;\">    0</td><td style=\"text-align: right;\">    0</td><td style=\"text-align: right;\">    0</td><td style=\"text-align: right;\">    0</td></tr>\n",
       "<tr><td style=\"text-align: right;\">   0</td><td style=\"text-align: right;\">   0</td><td style=\"text-align: right;\">   0</td><td style=\"text-align: right;\">   0</td><td style=\"text-align: right;\">   0</td><td style=\"text-align: right;\">   0</td><td style=\"text-align: right;\">   0</td><td style=\"text-align: right;\">   0</td><td style=\"text-align: right;\">   0</td><td style=\"text-align: right;\">    0</td><td style=\"text-align: right;\">    0</td><td style=\"text-align: right;\">    0</td><td style=\"text-align: right;\">    0</td><td style=\"text-align: right;\">    0</td><td style=\"text-align: right;\">    0</td><td style=\"text-align: right;\">    0</td><td style=\"text-align: right;\">    0</td><td style=\"text-align: right;\">    0</td><td style=\"text-align: right;\">    0</td><td style=\"text-align: right;\">    0</td><td style=\"text-align: right;\">    0</td><td style=\"text-align: right;\">    0</td><td style=\"text-align: right;\">    0</td><td style=\"text-align: right;\">    0</td><td style=\"text-align: right;\">    0</td><td style=\"text-align: right;\">    0</td><td style=\"text-align: right;\">    0</td><td style=\"text-align: right;\">    0</td><td style=\"text-align: right;\">    0</td><td style=\"text-align: right;\">    0</td><td style=\"text-align: right;\">    0</td><td style=\"text-align: right;\">    0</td></tr>\n",
       "<tr><td style=\"text-align: right;\">   0</td><td style=\"text-align: right;\">   0</td><td style=\"text-align: right;\">   0</td><td style=\"text-align: right;\">   0</td><td style=\"text-align: right;\">   0</td><td style=\"text-align: right;\">   0</td><td style=\"text-align: right;\">   0</td><td style=\"text-align: right;\">   0</td><td style=\"text-align: right;\">   0</td><td style=\"text-align: right;\">    0</td><td style=\"text-align: right;\">    0</td><td style=\"text-align: right;\">    0</td><td style=\"text-align: right;\">    0</td><td style=\"text-align: right;\">    0</td><td style=\"text-align: right;\">    0</td><td style=\"text-align: right;\">    0</td><td style=\"text-align: right;\">    0</td><td style=\"text-align: right;\">    0</td><td style=\"text-align: right;\">    0</td><td style=\"text-align: right;\">    0</td><td style=\"text-align: right;\">    0</td><td style=\"text-align: right;\">    0</td><td style=\"text-align: right;\">    0</td><td style=\"text-align: right;\">    0</td><td style=\"text-align: right;\">    0</td><td style=\"text-align: right;\">    0</td><td style=\"text-align: right;\">    0</td><td style=\"text-align: right;\">    0</td><td style=\"text-align: right;\">    0</td><td style=\"text-align: right;\">    0</td><td style=\"text-align: right;\">    0</td><td style=\"text-align: right;\">    0</td></tr>\n",
       "<tr><td style=\"text-align: right;\">   0</td><td style=\"text-align: right;\">   0</td><td style=\"text-align: right;\">   0</td><td style=\"text-align: right;\">   0</td><td style=\"text-align: right;\">   0</td><td style=\"text-align: right;\">   0</td><td style=\"text-align: right;\">   0</td><td style=\"text-align: right;\">   0</td><td style=\"text-align: right;\">   0</td><td style=\"text-align: right;\">    0</td><td style=\"text-align: right;\">    0</td><td style=\"text-align: right;\">    0</td><td style=\"text-align: right;\">    0</td><td style=\"text-align: right;\">    0</td><td style=\"text-align: right;\">    0</td><td style=\"text-align: right;\">    0</td><td style=\"text-align: right;\">    0</td><td style=\"text-align: right;\">    0</td><td style=\"text-align: right;\">    0</td><td style=\"text-align: right;\">    0</td><td style=\"text-align: right;\">    0</td><td style=\"text-align: right;\">    0</td><td style=\"text-align: right;\">    0</td><td style=\"text-align: right;\">    0</td><td style=\"text-align: right;\">    0</td><td style=\"text-align: right;\">    0</td><td style=\"text-align: right;\">    0</td><td style=\"text-align: right;\">    0</td><td style=\"text-align: right;\">    0</td><td style=\"text-align: right;\">    0</td><td style=\"text-align: right;\">    0</td><td style=\"text-align: right;\">    0</td></tr>\n",
       "<tr><td style=\"text-align: right;\">   0</td><td style=\"text-align: right;\">   0</td><td style=\"text-align: right;\">   0</td><td style=\"text-align: right;\">   0</td><td style=\"text-align: right;\">   0</td><td style=\"text-align: right;\">   0</td><td style=\"text-align: right;\">   0</td><td style=\"text-align: right;\">   0</td><td style=\"text-align: right;\">   0</td><td style=\"text-align: right;\">    0</td><td style=\"text-align: right;\">    0</td><td style=\"text-align: right;\">    0</td><td style=\"text-align: right;\">    0</td><td style=\"text-align: right;\">    0</td><td style=\"text-align: right;\">    0</td><td style=\"text-align: right;\">    0</td><td style=\"text-align: right;\">    0</td><td style=\"text-align: right;\">    0</td><td style=\"text-align: right;\">    0</td><td style=\"text-align: right;\">    0</td><td style=\"text-align: right;\">    0</td><td style=\"text-align: right;\">    0</td><td style=\"text-align: right;\">    0</td><td style=\"text-align: right;\">    0</td><td style=\"text-align: right;\">    0</td><td style=\"text-align: right;\">    0</td><td style=\"text-align: right;\">    0</td><td style=\"text-align: right;\">    0</td><td style=\"text-align: right;\">    0</td><td style=\"text-align: right;\">    0</td><td style=\"text-align: right;\">    0</td><td style=\"text-align: right;\">    0</td></tr>\n",
       "<tr><td style=\"text-align: right;\">   0</td><td style=\"text-align: right;\">   0</td><td style=\"text-align: right;\">   0</td><td style=\"text-align: right;\">   0</td><td style=\"text-align: right;\">   0</td><td style=\"text-align: right;\">   0</td><td style=\"text-align: right;\">   0</td><td style=\"text-align: right;\">   0</td><td style=\"text-align: right;\">   0</td><td style=\"text-align: right;\">    0</td><td style=\"text-align: right;\">    0</td><td style=\"text-align: right;\">    0</td><td style=\"text-align: right;\">    0</td><td style=\"text-align: right;\">    0</td><td style=\"text-align: right;\">    0</td><td style=\"text-align: right;\">    0</td><td style=\"text-align: right;\">    0</td><td style=\"text-align: right;\">    0</td><td style=\"text-align: right;\">    0</td><td style=\"text-align: right;\">    0</td><td style=\"text-align: right;\">    0</td><td style=\"text-align: right;\">    0</td><td style=\"text-align: right;\">    0</td><td style=\"text-align: right;\">    0</td><td style=\"text-align: right;\">    0</td><td style=\"text-align: right;\">    0</td><td style=\"text-align: right;\">    0</td><td style=\"text-align: right;\">    0</td><td style=\"text-align: right;\">    0</td><td style=\"text-align: right;\">    0</td><td style=\"text-align: right;\">    0</td><td style=\"text-align: right;\">    0</td></tr>\n",
       "<tr><td style=\"text-align: right;\">   0</td><td style=\"text-align: right;\">   0</td><td style=\"text-align: right;\">   0</td><td style=\"text-align: right;\">   0</td><td style=\"text-align: right;\">   0</td><td style=\"text-align: right;\">   0</td><td style=\"text-align: right;\">   0</td><td style=\"text-align: right;\">   0</td><td style=\"text-align: right;\">   0</td><td style=\"text-align: right;\">    0</td><td style=\"text-align: right;\">    0</td><td style=\"text-align: right;\">    0</td><td style=\"text-align: right;\">    0</td><td style=\"text-align: right;\">    0</td><td style=\"text-align: right;\">    0</td><td style=\"text-align: right;\">    0</td><td style=\"text-align: right;\">    0</td><td style=\"text-align: right;\">    0</td><td style=\"text-align: right;\">    0</td><td style=\"text-align: right;\">    0</td><td style=\"text-align: right;\">    0</td><td style=\"text-align: right;\">    0</td><td style=\"text-align: right;\">    0</td><td style=\"text-align: right;\">    0</td><td style=\"text-align: right;\">    0</td><td style=\"text-align: right;\">    0</td><td style=\"text-align: right;\">    0</td><td style=\"text-align: right;\">    0</td><td style=\"text-align: right;\">    0</td><td style=\"text-align: right;\">    0</td><td style=\"text-align: right;\">    0</td><td style=\"text-align: right;\">    0</td></tr>\n",
       "<tr><td style=\"text-align: right;\">   0</td><td style=\"text-align: right;\">   0</td><td style=\"text-align: right;\">   0</td><td style=\"text-align: right;\">   0</td><td style=\"text-align: right;\">   0</td><td style=\"text-align: right;\">   0</td><td style=\"text-align: right;\">   0</td><td style=\"text-align: right;\">   0</td><td style=\"text-align: right;\">   0</td><td style=\"text-align: right;\">    0</td><td style=\"text-align: right;\">    0</td><td style=\"text-align: right;\">    0</td><td style=\"text-align: right;\">    0</td><td style=\"text-align: right;\">    0</td><td style=\"text-align: right;\">    0</td><td style=\"text-align: right;\">    0</td><td style=\"text-align: right;\">    0</td><td style=\"text-align: right;\">    0</td><td style=\"text-align: right;\">    0</td><td style=\"text-align: right;\">    0</td><td style=\"text-align: right;\">    0</td><td style=\"text-align: right;\">    0</td><td style=\"text-align: right;\">    0</td><td style=\"text-align: right;\">    0</td><td style=\"text-align: right;\">    0</td><td style=\"text-align: right;\">    0</td><td style=\"text-align: right;\">    0</td><td style=\"text-align: right;\">    0</td><td style=\"text-align: right;\">    0</td><td style=\"text-align: right;\">    0</td><td style=\"text-align: right;\">    0</td><td style=\"text-align: right;\">    0</td></tr>\n",
       "</table>"
      ]
     },
     "metadata": {},
     "output_type": "display_data"
    },
    {
     "data": {
      "text/plain": []
     },
     "execution_count": 37,
     "metadata": {},
     "output_type": "execute_result"
    }
   ],
   "source": [
    "data.isna()"
   ]
  },
  {
   "cell_type": "code",
   "execution_count": 39,
   "metadata": {
    "collapsed": false
   },
   "outputs": [
    {
     "data": {
      "text/html": [
       "<table>\n",
       "<tr><th style=\"text-align: right;\">  C1</th></tr>\n",
       "<tr><td style=\"text-align: right;\">   0</td></tr>\n",
       "<tr><td style=\"text-align: right;\">   0</td></tr>\n",
       "<tr><td style=\"text-align: right;\">   0</td></tr>\n",
       "<tr><td style=\"text-align: right;\">   0</td></tr>\n",
       "<tr><td style=\"text-align: right;\">   0</td></tr>\n",
       "<tr><td style=\"text-align: right;\">   0</td></tr>\n",
       "<tr><td style=\"text-align: right;\">   0</td></tr>\n",
       "<tr><td style=\"text-align: right;\">   0</td></tr>\n",
       "<tr><td style=\"text-align: right;\">   0</td></tr>\n",
       "<tr><td style=\"text-align: right;\">   0</td></tr>\n",
       "</table>"
      ]
     },
     "metadata": {},
     "output_type": "display_data"
    },
    {
     "data": {
      "text/plain": []
     },
     "execution_count": 39,
     "metadata": {},
     "output_type": "execute_result"
    }
   ],
   "source": [
    "data['diagnosis'].isna()"
   ]
  },
  {
   "cell_type": "markdown",
   "metadata": {},
   "source": [
    "The `isna` method doesn't directly answer the question, \"Does the diagnosis column contain any NAs?\", rather it returns a 0 if that cell is not missing (Is NA? FALSE == 0) and a 1 if it is missing (Is NA? TRUE == 1).  So if there are no missing values, then summing over the whole column should produce a summand equal to 0.0.  Let's take a look:"
   ]
  },
  {
   "cell_type": "code",
   "execution_count": 40,
   "metadata": {
    "collapsed": false
   },
   "outputs": [
    {
     "data": {
      "text/plain": [
       "0.0"
      ]
     },
     "execution_count": 40,
     "metadata": {},
     "output_type": "execute_result"
    }
   ],
   "source": [
    "data['diagnosis'].isna().sum()"
   ]
  },
  {
   "cell_type": "markdown",
   "metadata": {},
   "source": [
    "Great, no missing labels.  \n",
    "\n",
    "Out of curiosity, let's see if there is any missing data in this frame:"
   ]
  },
  {
   "cell_type": "code",
   "execution_count": 66,
   "metadata": {
    "collapsed": false
   },
   "outputs": [
    {
     "data": {
      "text/plain": [
       "0.0"
      ]
     },
     "execution_count": 66,
     "metadata": {},
     "output_type": "execute_result"
    }
   ],
   "source": [
    "data.isna().sum()"
   ]
  },
  {
   "cell_type": "markdown",
   "metadata": {},
   "source": [
    "The next thing I may wonder about in a binary classification problem is the distribution of the response in the training data.  Is one of the two outcomes under-represented in the training set?  Many real datasets have what's called an \"imbalanace\" problem, where one of the classes has far fewer training examples than the other class.  Let's take a look at the distribution, both visually and numerically."
   ]
  },
  {
   "cell_type": "code",
   "execution_count": 62,
   "metadata": {
    "collapsed": false
   },
   "outputs": [],
   "source": [
    "# TO DO: Insert a bar chart or something showing the proportion of M to B in the response.\n"
   ]
  },
  {
   "cell_type": "code",
   "execution_count": 64,
   "metadata": {
    "collapsed": false
   },
   "outputs": [
    {
     "data": {
      "text/html": [
       "<table>\n",
       "<tr><th>diagnosis  </th><th style=\"text-align: right;\">  Count</th></tr>\n",
       "<tr><td>B          </td><td style=\"text-align: right;\">    357</td></tr>\n",
       "<tr><td>M          </td><td style=\"text-align: right;\">    212</td></tr>\n",
       "</table>"
      ]
     },
     "metadata": {},
     "output_type": "display_data"
    },
    {
     "data": {
      "text/plain": []
     },
     "execution_count": 64,
     "metadata": {},
     "output_type": "execute_result"
    }
   ],
   "source": [
    "data['diagnosis'].table()"
   ]
  },
  {
   "cell_type": "markdown",
   "metadata": {},
   "source": [
    "Ok, the data is not exactly evenly distributed between the two classes -- there are almost twice as many Benign samples as there are Malicious samples.  However, this level of imbalance shouldn't be much of an issue for the machine learning algos.  (We will revisit this later in the modeling section below)."
   ]
  },
  {
   "cell_type": "code",
   "execution_count": 75,
   "metadata": {
    "collapsed": false
   },
   "outputs": [
    {
     "data": {
      "text/html": [
       "<table>\n",
       "<tr><th style=\"text-align: right;\">   Count</th></tr>\n",
       "<tr><td style=\"text-align: right;\">0.627417</td></tr>\n",
       "<tr><td style=\"text-align: right;\">0.372583</td></tr>\n",
       "</table>"
      ]
     },
     "metadata": {},
     "output_type": "display_data"
    },
    {
     "data": {
      "text/plain": []
     },
     "execution_count": 75,
     "metadata": {},
     "output_type": "execute_result"
    }
   ],
   "source": [
    "n = data.shape[0]  # Total number of training samples\n",
    "data['diagnosis'].table()['Count']/n"
   ]
  },
  {
   "cell_type": "code",
   "execution_count": 78,
   "metadata": {
    "collapsed": false
   },
   "outputs": [
    {
     "data": {
      "text/plain": [
       "0.6274165202108963"
      ]
     },
     "execution_count": 78,
     "metadata": {},
     "output_type": "execute_result"
    }
   ],
   "source": [
    "357/float(n)\n"
   ]
  },
  {
   "cell_type": "markdown",
   "metadata": {},
   "source": [
    "## Machine Learning in H2O\n",
    "\n",
    "We will do a quick demo of the H2O software -- trying to predict malignant tumors using various machine learning algorithms.\n",
    "\n",
    "### Specify the predictor set and response\n",
    "\n",
    "The response, `y`, is the 'diagnosis' column, and the predictors, `x`, are all the columns aside from the first two columns ('id' and 'diagnosis')."
   ]
  },
  {
   "cell_type": "code",
   "execution_count": 108,
   "metadata": {
    "collapsed": true
   },
   "outputs": [],
   "source": [
    "y = 'diagnosis'"
   ]
  },
  {
   "cell_type": "code",
   "execution_count": 109,
   "metadata": {
    "collapsed": false
   },
   "outputs": [
    {
     "data": {
      "text/plain": [
       "[u'symmetry_mean',\n",
       " u'fractal_dimension_mean',\n",
       " u'radius_se',\n",
       " u'texture_se',\n",
       " u'perimeter_se',\n",
       " u'area_se',\n",
       " u'smoothness_se',\n",
       " u'compactness_se',\n",
       " u'concavity_se',\n",
       " u'concave_points_se',\n",
       " u'symmetry_se',\n",
       " u'fractal_dimension_se',\n",
       " u'radius_worst',\n",
       " u'texture_worst',\n",
       " u'perimeter_worst',\n",
       " u'area_worst',\n",
       " u'smoothness_worst',\n",
       " u'compactness_worst',\n",
       " u'concavity_worst',\n",
       " u'concave_points_worst',\n",
       " u'symmetry_worst',\n",
       " u'fractal_dimension_worst']"
      ]
     },
     "execution_count": 109,
     "metadata": {},
     "output_type": "execute_result"
    }
   ],
   "source": [
    "x = data.columns\n",
    "del x[0:1]\n",
    "x"
   ]
  },
  {
   "cell_type": "markdown",
   "metadata": {},
   "source": [
    "### Split H2O Frame into a train and test set"
   ]
  },
  {
   "cell_type": "code",
   "execution_count": 124,
   "metadata": {
    "collapsed": true
   },
   "outputs": [],
   "source": [
    "train, test = data.split_frame(ratios=[0.75], seed=1)"
   ]
  },
  {
   "cell_type": "code",
   "execution_count": 125,
   "metadata": {
    "collapsed": false
   },
   "outputs": [
    {
     "data": {
      "text/plain": [
       "(428, 32)"
      ]
     },
     "execution_count": 125,
     "metadata": {},
     "output_type": "execute_result"
    }
   ],
   "source": [
    "train.shape\n"
   ]
  },
  {
   "cell_type": "code",
   "execution_count": 126,
   "metadata": {
    "collapsed": false
   },
   "outputs": [
    {
     "data": {
      "text/plain": [
       "(141, 32)"
      ]
     },
     "execution_count": 126,
     "metadata": {},
     "output_type": "execute_result"
    }
   ],
   "source": [
    "test.shape"
   ]
  },
  {
   "cell_type": "markdown",
   "metadata": {},
   "source": [
    "### Train and Test a GBM model"
   ]
  },
  {
   "cell_type": "code",
   "execution_count": 100,
   "metadata": {
    "collapsed": false
   },
   "outputs": [],
   "source": [
    "# Import H2O GBM:\n",
    "from h2o.estimators.gbm import H2OGradientBoostingEstimator\n"
   ]
  },
  {
   "cell_type": "code",
   "execution_count": 105,
   "metadata": {
    "collapsed": true
   },
   "outputs": [],
   "source": [
    "model = H2OGradientBoostingEstimator(distribution='bernoulli',\n",
    "                                    ntrees=100,\n",
    "                                    max_depth=4,\n",
    "                                    learn_rate=0.1)"
   ]
  },
  {
   "cell_type": "code",
   "execution_count": 110,
   "metadata": {
    "collapsed": false
   },
   "outputs": [
    {
     "data": {
      "text/plain": [
       "'diagnosis'"
      ]
     },
     "execution_count": 110,
     "metadata": {},
     "output_type": "execute_result"
    }
   ],
   "source": [
    "y"
   ]
  },
  {
   "cell_type": "code",
   "execution_count": 130,
   "metadata": {
    "collapsed": false
   },
   "outputs": [
    {
     "name": "stdout",
     "output_type": "stream",
     "text": [
      "\n",
      "gbm Model Build Progress: [##################################################] 100%\n"
     ]
    }
   ],
   "source": [
    "model.train(x=x, y=y, training_frame=train, validation_frame=test)"
   ]
  },
  {
   "cell_type": "markdown",
   "metadata": {},
   "source": [
    "### Inspect Model"
   ]
  },
  {
   "cell_type": "code",
   "execution_count": 134,
   "metadata": {
    "collapsed": false
   },
   "outputs": [
    {
     "name": "stdout",
     "output_type": "stream",
     "text": [
      "Model Details\n",
      "=============\n",
      "H2OGradientBoostingEstimator :  Gradient Boosting Machine\n",
      "Model Key:  GBM_model_python_1448335018318_8\n",
      "\n",
      "Model Summary:\n"
     ]
    },
    {
     "data": {
      "text/html": [
       "<div style=\"overflow:auto\"><table style=\"width:50%\"><tr><td><b></b></td>\n",
       "<td><b>number_of_trees</b></td>\n",
       "<td><b>model_size_in_bytes</b></td>\n",
       "<td><b>min_depth</b></td>\n",
       "<td><b>max_depth</b></td>\n",
       "<td><b>mean_depth</b></td>\n",
       "<td><b>min_leaves</b></td>\n",
       "<td><b>max_leaves</b></td>\n",
       "<td><b>mean_leaves</b></td></tr>\n",
       "<tr><td></td>\n",
       "<td>100.0</td>\n",
       "<td>17641.0</td>\n",
       "<td>4.0</td>\n",
       "<td>4.0</td>\n",
       "<td>4.0</td>\n",
       "<td>7.0</td>\n",
       "<td>14.0</td>\n",
       "<td>9.71</td></tr></table></div>"
      ],
      "text/plain": [
       "    number_of_trees    model_size_in_bytes    min_depth    max_depth    mean_depth    min_leaves    max_leaves    mean_leaves\n",
       "--  -----------------  ---------------------  -----------  -----------  ------------  ------------  ------------  -------------\n",
       "    100                17641                  4            4            4             7             14            9.71"
      ]
     },
     "metadata": {},
     "output_type": "display_data"
    },
    {
     "name": "stdout",
     "output_type": "stream",
     "text": [
      "\n",
      "\n",
      "ModelMetricsBinomial: gbm\n",
      "** Reported on train data. **\n",
      "\n",
      "MSE: 1.03701247586e-05\n",
      "R^2: 0.999955470208\n",
      "LogLoss: 0.0012813336299\n",
      "AUC: 1.0\n",
      "Gini: 1.0\n",
      "\n",
      "Confusion Matrix (Act/Pred) for max f1 @ threshold = 0.976300871396:\n"
     ]
    },
    {
     "data": {
      "text/html": [
       "<div style=\"overflow:auto\"><table style=\"width:50%\"><tr><td><b></b></td>\n",
       "<td><b>B</b></td>\n",
       "<td><b>M</b></td>\n",
       "<td><b>Error</b></td>\n",
       "<td><b>Rate</b></td></tr>\n",
       "<tr><td>B</td>\n",
       "<td>270.0</td>\n",
       "<td>0.0</td>\n",
       "<td>0.0</td>\n",
       "<td> (0.0/270.0)</td></tr>\n",
       "<tr><td>M</td>\n",
       "<td>0.0</td>\n",
       "<td>158.0</td>\n",
       "<td>0.0</td>\n",
       "<td> (0.0/158.0)</td></tr>\n",
       "<tr><td>Total</td>\n",
       "<td>270.0</td>\n",
       "<td>158.0</td>\n",
       "<td>0.0</td>\n",
       "<td> (0.0/428.0)</td></tr></table></div>"
      ],
      "text/plain": [
       "       B    M    Error    Rate\n",
       "-----  ---  ---  -------  -----------\n",
       "B      270  0    0        (0.0/270.0)\n",
       "M      0    158  0        (0.0/158.0)\n",
       "Total  270  158  0        (0.0/428.0)"
      ]
     },
     "metadata": {},
     "output_type": "display_data"
    },
    {
     "name": "stdout",
     "output_type": "stream",
     "text": [
      "\n",
      "Maximum Metrics: Maximum metrics at their respective thresholds\n",
      "\n"
     ]
    },
    {
     "data": {
      "text/html": [
       "<div style=\"overflow:auto\"><table style=\"width:50%\"><tr><td><b>metric</b></td>\n",
       "<td><b>threshold</b></td>\n",
       "<td><b>value</b></td>\n",
       "<td><b>idx</b></td></tr>\n",
       "<tr><td>max f1</td>\n",
       "<td>1.0</td>\n",
       "<td>1.0</td>\n",
       "<td>151.0</td></tr>\n",
       "<tr><td>max f2</td>\n",
       "<td>1.0</td>\n",
       "<td>1.0</td>\n",
       "<td>151.0</td></tr>\n",
       "<tr><td>max f0point5</td>\n",
       "<td>1.0</td>\n",
       "<td>1.0</td>\n",
       "<td>151.0</td></tr>\n",
       "<tr><td>max accuracy</td>\n",
       "<td>1.0</td>\n",
       "<td>1.0</td>\n",
       "<td>151.0</td></tr>\n",
       "<tr><td>max precision</td>\n",
       "<td>1.0</td>\n",
       "<td>1.0</td>\n",
       "<td>0.0</td></tr>\n",
       "<tr><td>max absolute_MCC</td>\n",
       "<td>1.0</td>\n",
       "<td>1.0</td>\n",
       "<td>151.0</td></tr>\n",
       "<tr><td>max min_per_class_accuracy</td>\n",
       "<td>1.0</td>\n",
       "<td>1.0</td>\n",
       "<td>151.0</td></tr></table></div>"
      ],
      "text/plain": [
       "metric                      threshold    value    idx\n",
       "--------------------------  -----------  -------  -----\n",
       "max f1                      0.976301     1        151\n",
       "max f2                      0.976301     1        151\n",
       "max f0point5                0.976301     1        151\n",
       "max accuracy                0.976301     1        151\n",
       "max precision               0.999973     1        0\n",
       "max absolute_MCC            0.976301     1        151\n",
       "max min_per_class_accuracy  0.976301     1        151"
      ]
     },
     "metadata": {},
     "output_type": "display_data"
    },
    {
     "name": "stdout",
     "output_type": "stream",
     "text": [
      "\n",
      "ModelMetricsBinomial: gbm\n",
      "** Reported on validation data. **\n",
      "\n",
      "MSE: 0.040870523521\n",
      "R^2: 0.827044087245\n",
      "LogLoss: 0.197833092523\n",
      "AUC: 0.981481481481\n",
      "Gini: 0.962962962963\n",
      "\n",
      "Confusion Matrix (Act/Pred) for max f1 @ threshold = 0.205588863467:\n"
     ]
    },
    {
     "data": {
      "text/html": [
       "<div style=\"overflow:auto\"><table style=\"width:50%\"><tr><td><b></b></td>\n",
       "<td><b>B</b></td>\n",
       "<td><b>M</b></td>\n",
       "<td><b>Error</b></td>\n",
       "<td><b>Rate</b></td></tr>\n",
       "<tr><td>B</td>\n",
       "<td>84.0</td>\n",
       "<td>3.0</td>\n",
       "<td>0.0345</td>\n",
       "<td> (3.0/87.0)</td></tr>\n",
       "<tr><td>M</td>\n",
       "<td>3.0</td>\n",
       "<td>51.0</td>\n",
       "<td>0.0556</td>\n",
       "<td> (3.0/54.0)</td></tr>\n",
       "<tr><td>Total</td>\n",
       "<td>87.0</td>\n",
       "<td>54.0</td>\n",
       "<td>0.0426</td>\n",
       "<td> (6.0/141.0)</td></tr></table></div>"
      ],
      "text/plain": [
       "       B    M    Error    Rate\n",
       "-----  ---  ---  -------  -----------\n",
       "B      84   3    0.0345   (3.0/87.0)\n",
       "M      3    51   0.0556   (3.0/54.0)\n",
       "Total  87   54   0.0426   (6.0/141.0)"
      ]
     },
     "metadata": {},
     "output_type": "display_data"
    },
    {
     "name": "stdout",
     "output_type": "stream",
     "text": [
      "\n",
      "Maximum Metrics: Maximum metrics at their respective thresholds\n",
      "\n"
     ]
    },
    {
     "data": {
      "text/html": [
       "<div style=\"overflow:auto\"><table style=\"width:50%\"><tr><td><b>metric</b></td>\n",
       "<td><b>threshold</b></td>\n",
       "<td><b>value</b></td>\n",
       "<td><b>idx</b></td></tr>\n",
       "<tr><td>max f1</td>\n",
       "<td>0.2</td>\n",
       "<td>0.9</td>\n",
       "<td>53.0</td></tr>\n",
       "<tr><td>max f2</td>\n",
       "<td>0.1</td>\n",
       "<td>1.0</td>\n",
       "<td>56.0</td></tr>\n",
       "<tr><td>max f0point5</td>\n",
       "<td>1.0</td>\n",
       "<td>1.0</td>\n",
       "<td>43.0</td></tr>\n",
       "<tr><td>max accuracy</td>\n",
       "<td>0.7</td>\n",
       "<td>1.0</td>\n",
       "<td>51.0</td></tr>\n",
       "<tr><td>max precision</td>\n",
       "<td>1.0</td>\n",
       "<td>1.0</td>\n",
       "<td>0.0</td></tr>\n",
       "<tr><td>max absolute_MCC</td>\n",
       "<td>0.2</td>\n",
       "<td>0.9</td>\n",
       "<td>53.0</td></tr>\n",
       "<tr><td>max min_per_class_accuracy</td>\n",
       "<td>0.2</td>\n",
       "<td>0.9</td>\n",
       "<td>53.0</td></tr></table></div>"
      ],
      "text/plain": [
       "metric                      threshold    value     idx\n",
       "--------------------------  -----------  --------  -----\n",
       "max f1                      0.205589     0.944444  53\n",
       "max f2                      0.0992663    0.952381  56\n",
       "max f0point5                0.95489      0.956522  43\n",
       "max accuracy                0.679729     0.957447  51\n",
       "max precision               0.999885     1         0\n",
       "max absolute_MCC            0.205589     0.909962  53\n",
       "max min_per_class_accuracy  0.205589     0.944444  53"
      ]
     },
     "metadata": {},
     "output_type": "display_data"
    },
    {
     "name": "stdout",
     "output_type": "stream",
     "text": [
      "\n",
      "Scoring History:\n"
     ]
    },
    {
     "data": {
      "text/html": [
       "<div style=\"overflow:auto\"><table style=\"width:50%\"><tr><td><b></b></td>\n",
       "<td><b>timestamp</b></td>\n",
       "<td><b>duration</b></td>\n",
       "<td><b>number_of_trees</b></td>\n",
       "<td><b>training_MSE</b></td>\n",
       "<td><b>training_logloss</b></td>\n",
       "<td><b>training_AUC</b></td>\n",
       "<td><b>training_classification_error</b></td>\n",
       "<td><b>validation_MSE</b></td>\n",
       "<td><b>validation_logloss</b></td>\n",
       "<td><b>validation_AUC</b></td>\n",
       "<td><b>validation_classification_error</b></td></tr>\n",
       "<tr><td></td>\n",
       "<td>2015-11-24 00:03:09</td>\n",
       "<td> 0.006 sec</td>\n",
       "<td>1.0</td>\n",
       "<td>0.2</td>\n",
       "<td>0.6</td>\n",
       "<td>1.0</td>\n",
       "<td>0.0</td>\n",
       "<td>0.2</td>\n",
       "<td>0.6</td>\n",
       "<td>1.0</td>\n",
       "<td>0.0</td></tr>\n",
       "<tr><td></td>\n",
       "<td>2015-11-24 00:03:09</td>\n",
       "<td> 0.010 sec</td>\n",
       "<td>2.0</td>\n",
       "<td>0.2</td>\n",
       "<td>0.5</td>\n",
       "<td>1.0</td>\n",
       "<td>0.0</td>\n",
       "<td>0.2</td>\n",
       "<td>0.5</td>\n",
       "<td>1.0</td>\n",
       "<td>0.1</td></tr>\n",
       "<tr><td></td>\n",
       "<td>2015-11-24 00:03:09</td>\n",
       "<td> 0.014 sec</td>\n",
       "<td>3.0</td>\n",
       "<td>0.1</td>\n",
       "<td>0.5</td>\n",
       "<td>1.0</td>\n",
       "<td>0.0</td>\n",
       "<td>0.2</td>\n",
       "<td>0.5</td>\n",
       "<td>1.0</td>\n",
       "<td>0.1</td></tr>\n",
       "<tr><td></td>\n",
       "<td>2015-11-24 00:03:09</td>\n",
       "<td> 0.017 sec</td>\n",
       "<td>4.0</td>\n",
       "<td>0.1</td>\n",
       "<td>0.4</td>\n",
       "<td>1.0</td>\n",
       "<td>0.0</td>\n",
       "<td>0.1</td>\n",
       "<td>0.4</td>\n",
       "<td>1.0</td>\n",
       "<td>0.1</td></tr>\n",
       "<tr><td></td>\n",
       "<td>2015-11-24 00:03:09</td>\n",
       "<td> 0.020 sec</td>\n",
       "<td>5.0</td>\n",
       "<td>0.1</td>\n",
       "<td>0.4</td>\n",
       "<td>1.0</td>\n",
       "<td>0.0</td>\n",
       "<td>0.1</td>\n",
       "<td>0.4</td>\n",
       "<td>1.0</td>\n",
       "<td>0.1</td></tr>\n",
       "<tr><td>---</td>\n",
       "<td>---</td>\n",
       "<td>---</td>\n",
       "<td>---</td>\n",
       "<td>---</td>\n",
       "<td>---</td>\n",
       "<td>---</td>\n",
       "<td>---</td>\n",
       "<td>---</td>\n",
       "<td>---</td>\n",
       "<td>---</td>\n",
       "<td>---</td></tr>\n",
       "<tr><td></td>\n",
       "<td>2015-11-24 00:03:10</td>\n",
       "<td> 0.513 sec</td>\n",
       "<td>96.0</td>\n",
       "<td>0.0</td>\n",
       "<td>0.0</td>\n",
       "<td>1.0</td>\n",
       "<td>0.0</td>\n",
       "<td>0.0</td>\n",
       "<td>0.2</td>\n",
       "<td>1.0</td>\n",
       "<td>0.0</td></tr>\n",
       "<tr><td></td>\n",
       "<td>2015-11-24 00:03:10</td>\n",
       "<td> 0.519 sec</td>\n",
       "<td>97.0</td>\n",
       "<td>0.0</td>\n",
       "<td>0.0</td>\n",
       "<td>1.0</td>\n",
       "<td>0.0</td>\n",
       "<td>0.0</td>\n",
       "<td>0.2</td>\n",
       "<td>1.0</td>\n",
       "<td>0.0</td></tr>\n",
       "<tr><td></td>\n",
       "<td>2015-11-24 00:03:10</td>\n",
       "<td> 0.524 sec</td>\n",
       "<td>98.0</td>\n",
       "<td>0.0</td>\n",
       "<td>0.0</td>\n",
       "<td>1.0</td>\n",
       "<td>0.0</td>\n",
       "<td>0.0</td>\n",
       "<td>0.2</td>\n",
       "<td>1.0</td>\n",
       "<td>0.0</td></tr>\n",
       "<tr><td></td>\n",
       "<td>2015-11-24 00:03:10</td>\n",
       "<td> 0.530 sec</td>\n",
       "<td>99.0</td>\n",
       "<td>0.0</td>\n",
       "<td>0.0</td>\n",
       "<td>1.0</td>\n",
       "<td>0.0</td>\n",
       "<td>0.0</td>\n",
       "<td>0.2</td>\n",
       "<td>1.0</td>\n",
       "<td>0.0</td></tr>\n",
       "<tr><td></td>\n",
       "<td>2015-11-24 00:03:10</td>\n",
       "<td> 0.536 sec</td>\n",
       "<td>100.0</td>\n",
       "<td>0.0</td>\n",
       "<td>0.0</td>\n",
       "<td>1.0</td>\n",
       "<td>0.0</td>\n",
       "<td>0.0</td>\n",
       "<td>0.2</td>\n",
       "<td>1.0</td>\n",
       "<td>0.0</td></tr></table></div>"
      ],
      "text/plain": [
       "     timestamp            duration    number_of_trees    training_MSE       training_logloss    training_AUC    training_classification_error    validation_MSE    validation_logloss    validation_AUC    validation_classification_error\n",
       "---  -------------------  ----------  -----------------  -----------------  ------------------  --------------  -------------------------------  ----------------  --------------------  ----------------  ---------------------------------\n",
       "     2015-11-24 00:03:09  0.006 sec   1.0                0.193469704125     0.574740474406      0.99449132677   0.0373831775701                  0.200539255105    0.589468936626        0.961366538953    0.0496453900709\n",
       "     2015-11-24 00:03:09  0.010 sec   2.0                0.16164529684      0.507168445357      0.99650726676   0.0257009345794                  0.174861511928    0.535011692661        0.961792252022    0.0709219858156\n",
       "     2015-11-24 00:03:09  0.014 sec   3.0                0.135349345653     0.450250315383      0.997304266292  0.0210280373832                  0.152017416442    0.485730460045        0.963282247765    0.063829787234\n",
       "     2015-11-24 00:03:09  0.017 sec   4.0                0.113894938356     0.40223663021       0.997585560244  0.0210280373832                  0.132676671152    0.442881069328        0.966262239251    0.0567375886525\n",
       "     2015-11-24 00:03:09  0.020 sec   5.0                0.0967713955099    0.362134949707      0.997702766057  0.0210280373832                  0.118910243101    0.410614129804        0.963175819498    0.063829787234\n",
       "---  ---                  ---         ---                ---                ---                 ---             ---                              ---               ---                   ---               ---\n",
       "     2015-11-24 00:03:10  0.513 sec   96.0               1.46357478267e-05  0.00153623774313    1.0             0.0                              0.0407949191795   0.193165519754        0.981694338016    0.0425531914894\n",
       "     2015-11-24 00:03:10  0.519 sec   97.0               1.35523631003e-05  0.00148163476475    1.0             0.0                              0.0406629540071   0.194063101611        0.981481481481    0.0425531914894\n",
       "     2015-11-24 00:03:10  0.524 sec   98.0               1.23687740126e-05  0.00140738630791    1.0             0.0                              0.0408648889743   0.196357762959        0.981481481481    0.0425531914894\n",
       "     2015-11-24 00:03:10  0.530 sec   99.0               1.12892528335e-05  0.0013447797051     1.0             0.0                              0.0408817219078   0.196901055891        0.981481481481    0.0425531914894\n",
       "     2015-11-24 00:03:10  0.536 sec   100.0              1.03701247586e-05  0.0012813336299     1.0             0.0                              0.040870523521    0.197833092523        0.981481481481    0.0425531914894"
      ]
     },
     "metadata": {},
     "output_type": "display_data"
    },
    {
     "name": "stdout",
     "output_type": "stream",
     "text": [
      "\n",
      "Variable Importances:\n"
     ]
    },
    {
     "data": {
      "text/html": [
       "<div style=\"overflow:auto\"><table style=\"width:50%\"><tr><td><b>variable</b></td>\n",
       "<td><b>relative_importance</b></td>\n",
       "<td><b>scaled_importance</b></td>\n",
       "<td><b>percentage</b></td></tr>\n",
       "<tr><td>perimeter_worst</td>\n",
       "<td>177.3</td>\n",
       "<td>1.0</td>\n",
       "<td>0.3</td></tr>\n",
       "<tr><td>concave_points_worst</td>\n",
       "<td>162.6</td>\n",
       "<td>0.9</td>\n",
       "<td>0.3</td></tr>\n",
       "<tr><td>radius_worst</td>\n",
       "<td>125.0</td>\n",
       "<td>0.7</td>\n",
       "<td>0.2</td></tr>\n",
       "<tr><td>area_worst</td>\n",
       "<td>12.1</td>\n",
       "<td>0.1</td>\n",
       "<td>0.0</td></tr>\n",
       "<tr><td>smoothness_worst</td>\n",
       "<td>9.5</td>\n",
       "<td>0.1</td>\n",
       "<td>0.0</td></tr>\n",
       "<tr><td>---</td>\n",
       "<td>---</td>\n",
       "<td>---</td>\n",
       "<td>---</td></tr>\n",
       "<tr><td>fractal_dimension_se</td>\n",
       "<td>0.1</td>\n",
       "<td>0.0</td>\n",
       "<td>0.0</td></tr>\n",
       "<tr><td>radius_se</td>\n",
       "<td>0.1</td>\n",
       "<td>0.0</td>\n",
       "<td>0.0</td></tr>\n",
       "<tr><td>texture_se</td>\n",
       "<td>0.1</td>\n",
       "<td>0.0</td>\n",
       "<td>0.0</td></tr>\n",
       "<tr><td>symmetry_mean</td>\n",
       "<td>0.0</td>\n",
       "<td>0.0</td>\n",
       "<td>0.0</td></tr>\n",
       "<tr><td>fractal_dimension_mean</td>\n",
       "<td>0.0</td>\n",
       "<td>0.0</td>\n",
       "<td>0.0</td></tr></table></div>"
      ],
      "text/plain": [
       "variable                relative_importance    scaled_importance    percentage\n",
       "----------------------  ---------------------  -------------------  -----------------\n",
       "perimeter_worst         177.272506714          1.0                  0.341524643137\n",
       "concave_points_worst    162.555847168          0.916982842863       0.313172238172\n",
       "radius_worst            125.038749695          0.705347670728       0.240893611533\n",
       "area_worst              12.1377506256          0.0684694476916      0.0233840036887\n",
       "smoothness_worst        9.46271133423          0.0533794636836      0.0182304022854\n",
       "---                     ---                    ---                  ---\n",
       "fractal_dimension_se    0.072802990675         0.000410684048105    0.000140258722971\n",
       "radius_se               0.0662790164351        0.000373882096349    0.000127689949531\n",
       "texture_se              0.0582987368107        0.000328865078355    0.000112315528526\n",
       "symmetry_mean           0.00972001999617       5.48309502491e-05    1.87261207167e-05\n",
       "fractal_dimension_mean  0.00690172053874       3.89328309656e-05    1.32965212018e-05"
      ]
     },
     "metadata": {},
     "output_type": "display_data"
    },
    {
     "data": {
      "text/plain": []
     },
     "execution_count": 134,
     "metadata": {},
     "output_type": "execute_result"
    }
   ],
   "source": [
    "model"
   ]
  },
  {
   "cell_type": "markdown",
   "metadata": {},
   "source": [
    "### Model Performance on a Test Set"
   ]
  },
  {
   "cell_type": "code",
   "execution_count": 131,
   "metadata": {
    "collapsed": false
   },
   "outputs": [
    {
     "data": {
      "text/plain": [
       "0.8270440872454804"
      ]
     },
     "execution_count": 131,
     "metadata": {},
     "output_type": "execute_result"
    }
   ],
   "source": [
    "perf = model.model_performance(test)\n",
    "perf.r2()"
   ]
  },
  {
   "cell_type": "code",
   "execution_count": 132,
   "metadata": {
    "collapsed": false
   },
   "outputs": [
    {
     "data": {
      "text/plain": [
       "0.9814814814814814"
      ]
     },
     "execution_count": 132,
     "metadata": {},
     "output_type": "execute_result"
    }
   ],
   "source": [
    "perf.auc()"
   ]
  },
  {
   "cell_type": "markdown",
   "metadata": {},
   "source": [
    "### Cross-validated Performance"
   ]
  },
  {
   "cell_type": "code",
   "execution_count": null,
   "metadata": {
    "collapsed": true
   },
   "outputs": [],
   "source": [
    "#TO DO: Show training a model with nfolds=10 / also by specifying fold_column"
   ]
  },
  {
   "cell_type": "markdown",
   "metadata": {},
   "source": [
    "### Grid Search"
   ]
  },
  {
   "cell_type": "code",
   "execution_count": null,
   "metadata": {
    "collapsed": true
   },
   "outputs": [],
   "source": [
    "#TO DO: Copy grid search example here"
   ]
  },
  {
   "cell_type": "markdown",
   "metadata": {},
   "source": [
    "### Compare Models"
   ]
  },
  {
   "cell_type": "code",
   "execution_count": null,
   "metadata": {
    "collapsed": true
   },
   "outputs": [],
   "source": [
    "#TO DO: Compare grid search models"
   ]
  }
 ],
 "metadata": {
  "kernelspec": {
   "display_name": "Python 2",
   "language": "python",
   "name": "python2"
  },
  "language_info": {
   "codemirror_mode": {
    "name": "ipython",
    "version": 2
   },
   "file_extension": ".py",
   "mimetype": "text/x-python",
   "name": "python",
   "nbconvert_exporter": "python",
   "pygments_lexer": "ipython2",
   "version": "2.7.10"
  }
 },
 "nbformat": 4,
 "nbformat_minor": 0
}
